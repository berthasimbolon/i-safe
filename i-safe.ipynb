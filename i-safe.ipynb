{
 "cells": [
  {
   "cell_type": "code",
   "execution_count": 137,
   "id": "ec8e2484",
   "metadata": {},
   "outputs": [],
   "source": [
    "import pyttsx3\n",
    "import pyaudio\n",
    "import speech_recognition as sr\n",
    "import webbrowser\n",
    "import datetime\n",
    "import pywhatkit\n",
    "import os\n",
    "import wave\n",
    "import ipywidgets as widgets"
   ]
  },
  {
   "cell_type": "code",
   "execution_count": 138,
   "id": "9a5a3c9d",
   "metadata": {},
   "outputs": [],
   "source": [
    "#Listen to our microphone and return the audio as text using google\n",
    "\n",
    "def transform():\n",
    "  r = sr.Recognizer()\n",
    "  with sr.Microphone() as source:\n",
    "    print(\"Listening\")\n",
    "    audio = r.listen(source)\n",
    "    q = \"\"\n",
    "    try:\n",
    "        q = r.recognize_google(audio)\n",
    "        print(\"I'm listening\" + q)\n",
    "    except sr.UnknownValueError:\n",
    "      print(\"Sorry I didn't understand\")\n",
    "      return \"I'm waiting\"\n",
    "    except sr.RequestError as e:\n",
    "      print(\"Request Failed; {0}\".format(e))\n",
    "    return q"
   ]
  },
  {
   "cell_type": "code",
   "execution_count": 139,
   "id": "20b17c8d",
   "metadata": {
    "scrolled": true
   },
   "outputs": [
    {
     "name": "stdout",
     "output_type": "stream",
     "text": [
      "Listening\n"
     ]
    },
    {
     "ename": "OSError",
     "evalue": "FLAC conversion utility not available - consider installing the FLAC command line application by running `apt-get install flac` or your operating system's equivalent",
     "output_type": "error",
     "traceback": [
      "\u001b[1;31m---------------------------------------------------------------------------\u001b[0m",
      "\u001b[1;31mOSError\u001b[0m                                   Traceback (most recent call last)",
      "\u001b[1;32m<ipython-input-139-55475d179a7c>\u001b[0m in \u001b[0;36m<module>\u001b[1;34m\u001b[0m\n\u001b[1;32m----> 1\u001b[1;33m \u001b[0mtransform\u001b[0m\u001b[1;33m(\u001b[0m\u001b[1;33m)\u001b[0m\u001b[1;33m\u001b[0m\u001b[1;33m\u001b[0m\u001b[0m\n\u001b[0m",
      "\u001b[1;32m<ipython-input-138-b4154402de23>\u001b[0m in \u001b[0;36mtransform\u001b[1;34m()\u001b[0m\n\u001b[0;32m      8\u001b[0m     \u001b[0mq\u001b[0m \u001b[1;33m=\u001b[0m \u001b[1;34m\"\"\u001b[0m\u001b[1;33m\u001b[0m\u001b[1;33m\u001b[0m\u001b[0m\n\u001b[0;32m      9\u001b[0m     \u001b[1;32mtry\u001b[0m\u001b[1;33m:\u001b[0m\u001b[1;33m\u001b[0m\u001b[1;33m\u001b[0m\u001b[0m\n\u001b[1;32m---> 10\u001b[1;33m         \u001b[0mq\u001b[0m \u001b[1;33m=\u001b[0m \u001b[0mr\u001b[0m\u001b[1;33m.\u001b[0m\u001b[0mrecognize_google\u001b[0m\u001b[1;33m(\u001b[0m\u001b[0maudio\u001b[0m\u001b[1;33m)\u001b[0m\u001b[1;33m\u001b[0m\u001b[1;33m\u001b[0m\u001b[0m\n\u001b[0m\u001b[0;32m     11\u001b[0m         \u001b[0mprint\u001b[0m\u001b[1;33m(\u001b[0m\u001b[1;34m\"I'm listening\"\u001b[0m \u001b[1;33m+\u001b[0m \u001b[0mq\u001b[0m\u001b[1;33m)\u001b[0m\u001b[1;33m\u001b[0m\u001b[1;33m\u001b[0m\u001b[0m\n\u001b[0;32m     12\u001b[0m     \u001b[1;32mexcept\u001b[0m \u001b[0msr\u001b[0m\u001b[1;33m.\u001b[0m\u001b[0mUnknownValueError\u001b[0m\u001b[1;33m:\u001b[0m\u001b[1;33m\u001b[0m\u001b[1;33m\u001b[0m\u001b[0m\n",
      "\u001b[1;32m~\\anaconda3\\lib\\site-packages\\speech_recognition\\__init__.py\u001b[0m in \u001b[0;36mrecognize_google\u001b[1;34m(self, audio_data, key, language, show_all)\u001b[0m\n\u001b[0;32m    746\u001b[0m         \u001b[1;32massert\u001b[0m \u001b[0misinstance\u001b[0m\u001b[1;33m(\u001b[0m\u001b[0mlanguage\u001b[0m\u001b[1;33m,\u001b[0m \u001b[0mstr\u001b[0m\u001b[1;33m)\u001b[0m\u001b[1;33m,\u001b[0m \u001b[1;34m\"``language`` must be a string\"\u001b[0m\u001b[1;33m\u001b[0m\u001b[1;33m\u001b[0m\u001b[0m\n\u001b[0;32m    747\u001b[0m \u001b[1;33m\u001b[0m\u001b[0m\n\u001b[1;32m--> 748\u001b[1;33m         flac_data = audio_data.get_flac_data(\n\u001b[0m\u001b[0;32m    749\u001b[0m             \u001b[0mconvert_rate\u001b[0m\u001b[1;33m=\u001b[0m\u001b[1;32mNone\u001b[0m \u001b[1;32mif\u001b[0m \u001b[0maudio_data\u001b[0m\u001b[1;33m.\u001b[0m\u001b[0msample_rate\u001b[0m \u001b[1;33m>=\u001b[0m \u001b[1;36m8000\u001b[0m \u001b[1;32melse\u001b[0m \u001b[1;36m8000\u001b[0m\u001b[1;33m,\u001b[0m  \u001b[1;31m# audio samples must be at least 8 kHz\u001b[0m\u001b[1;33m\u001b[0m\u001b[1;33m\u001b[0m\u001b[0m\n\u001b[0;32m    750\u001b[0m             \u001b[0mconvert_width\u001b[0m\u001b[1;33m=\u001b[0m\u001b[1;36m2\u001b[0m  \u001b[1;31m# audio samples must be 16-bit\u001b[0m\u001b[1;33m\u001b[0m\u001b[1;33m\u001b[0m\u001b[0m\n",
      "\u001b[1;32m~\\anaconda3\\lib\\site-packages\\speech_recognition\\__init__.py\u001b[0m in \u001b[0;36mget_flac_data\u001b[1;34m(self, convert_rate, convert_width)\u001b[0m\n\u001b[0;32m    425\u001b[0m         \u001b[1;31m# run the FLAC converter with the WAV data to get the FLAC data\u001b[0m\u001b[1;33m\u001b[0m\u001b[1;33m\u001b[0m\u001b[1;33m\u001b[0m\u001b[0m\n\u001b[0;32m    426\u001b[0m         \u001b[0mwav_data\u001b[0m \u001b[1;33m=\u001b[0m \u001b[0mself\u001b[0m\u001b[1;33m.\u001b[0m\u001b[0mget_wav_data\u001b[0m\u001b[1;33m(\u001b[0m\u001b[0mconvert_rate\u001b[0m\u001b[1;33m,\u001b[0m \u001b[0mconvert_width\u001b[0m\u001b[1;33m)\u001b[0m\u001b[1;33m\u001b[0m\u001b[1;33m\u001b[0m\u001b[0m\n\u001b[1;32m--> 427\u001b[1;33m         \u001b[0mflac_converter\u001b[0m \u001b[1;33m=\u001b[0m \u001b[0mget_flac_converter\u001b[0m\u001b[1;33m(\u001b[0m\u001b[1;33m)\u001b[0m\u001b[1;33m\u001b[0m\u001b[1;33m\u001b[0m\u001b[0m\n\u001b[0m\u001b[0;32m    428\u001b[0m         \u001b[1;32mif\u001b[0m \u001b[0mos\u001b[0m\u001b[1;33m.\u001b[0m\u001b[0mname\u001b[0m \u001b[1;33m==\u001b[0m \u001b[1;34m\"nt\"\u001b[0m\u001b[1;33m:\u001b[0m  \u001b[1;31m# on Windows, specify that the process is to be started without showing a console window\u001b[0m\u001b[1;33m\u001b[0m\u001b[1;33m\u001b[0m\u001b[0m\n\u001b[0;32m    429\u001b[0m             \u001b[0mstartup_info\u001b[0m \u001b[1;33m=\u001b[0m \u001b[0msubprocess\u001b[0m\u001b[1;33m.\u001b[0m\u001b[0mSTARTUPINFO\u001b[0m\u001b[1;33m(\u001b[0m\u001b[1;33m)\u001b[0m\u001b[1;33m\u001b[0m\u001b[1;33m\u001b[0m\u001b[0m\n",
      "\u001b[1;32m~\\anaconda3\\lib\\site-packages\\speech_recognition\\__init__.py\u001b[0m in \u001b[0;36mget_flac_converter\u001b[1;34m()\u001b[0m\n\u001b[0;32m   1096\u001b[0m     \u001b[0mflac_converter\u001b[0m \u001b[1;33m=\u001b[0m \u001b[0mshutil_which\u001b[0m\u001b[1;33m(\u001b[0m\u001b[1;34m\"flac\"\u001b[0m\u001b[1;33m)\u001b[0m  \u001b[1;31m# check for installed version first\u001b[0m\u001b[1;33m\u001b[0m\u001b[1;33m\u001b[0m\u001b[0m\n\u001b[0;32m   1097\u001b[0m     \u001b[1;32mif\u001b[0m \u001b[0mflac_converter\u001b[0m \u001b[1;32mis\u001b[0m \u001b[1;32mNone\u001b[0m\u001b[1;33m:\u001b[0m  \u001b[1;31m# flac utility is not installed\u001b[0m\u001b[1;33m\u001b[0m\u001b[1;33m\u001b[0m\u001b[0m\n\u001b[1;32m-> 1098\u001b[1;33m         \u001b[1;32mraise\u001b[0m \u001b[0mOSError\u001b[0m\u001b[1;33m(\u001b[0m\u001b[1;34m\"FLAC conversion utility not available - consider installing the FLAC command line application by running `apt-get install flac` or your operating system's equivalent\"\u001b[0m\u001b[1;33m)\u001b[0m\u001b[1;33m\u001b[0m\u001b[1;33m\u001b[0m\u001b[0m\n\u001b[0m\u001b[0;32m   1099\u001b[0m \u001b[1;33m\u001b[0m\u001b[0m\n\u001b[0;32m   1100\u001b[0m     \u001b[1;31m# mark FLAC converter as executable if possible\u001b[0m\u001b[1;33m\u001b[0m\u001b[1;33m\u001b[0m\u001b[1;33m\u001b[0m\u001b[0m\n",
      "\u001b[1;31mOSError\u001b[0m: FLAC conversion utility not available - consider installing the FLAC command line application by running `apt-get install flac` or your operating system's equivalent"
     ]
    }
   ],
   "source": [
    "transform()"
   ]
  },
  {
   "cell_type": "code",
   "execution_count": 140,
   "id": "49a54d01",
   "metadata": {},
   "outputs": [],
   "source": [
    "def speaking(message):\n",
    "    engine = pyttsx3.init()\n",
    "    engine.say(message)\n",
    "    engine.runAndWait()"
   ]
  },
  {
   "cell_type": "code",
   "execution_count": 141,
   "id": "bcb4b01b",
   "metadata": {},
   "outputs": [],
   "source": [
    "speaking('I am listening')"
   ]
  },
  {
   "cell_type": "code",
   "execution_count": 142,
   "id": "fbd642d0",
   "metadata": {},
   "outputs": [
    {
     "name": "stdout",
     "output_type": "stream",
     "text": [
      "<Voice id=HKEY_LOCAL_MACHINE\\SOFTWARE\\Microsoft\\Speech\\Voices\\Tokens\\TTS_MS_EN-US_DAVID_11.0\n",
      "          name=Microsoft David Desktop - English (United States)\n",
      "          languages=[]\n",
      "          gender=None\n",
      "          age=None>\n",
      "<Voice id=HKEY_LOCAL_MACHINE\\SOFTWARE\\Microsoft\\Speech\\Voices\\Tokens\\TTS_MS_EN-US_ZIRA_11.0\n",
      "          name=Microsoft Zira Desktop - English (United States)\n",
      "          languages=[]\n",
      "          gender=None\n",
      "          age=None>\n"
     ]
    }
   ],
   "source": [
    "engine = pyttsx3.init()\n",
    "for voice in engine.getProperty('voices'):\n",
    "    print(voice)"
   ]
  },
  {
   "cell_type": "code",
   "execution_count": 143,
   "id": "ed8c40f8",
   "metadata": {},
   "outputs": [],
   "source": [
    "id = 'HKEY_LOCAL_MACHINE\\SOFTWARE\\Microsoft\\Speech\\Voices\\Tokens\\TTS_MS_EN-US_ZIRA_11.0'\n",
    "engine.setProperty('voice', id)\n",
    "engine.say('Listening')\n",
    "engine.runAndWait()"
   ]
  },
  {
   "cell_type": "code",
   "execution_count": 144,
   "id": "efef8088",
   "metadata": {},
   "outputs": [],
   "source": [
    "def Whatsup():\n",
    "    speaking('Listening')"
   ]
  },
  {
   "cell_type": "code",
   "execution_count": 145,
   "id": "71c689f2",
   "metadata": {},
   "outputs": [],
   "source": [
    "Whatsup()"
   ]
  },
  {
   "cell_type": "code",
   "execution_count": 146,
   "id": "52163599",
   "metadata": {},
   "outputs": [],
   "source": [
    "# The heart of our assistant. Take queries and returns answers\n",
    "def querying():\n",
    "    Whatsup()\n",
    "    start = True\n",
    "    while(start):\n",
    "        q = transform().lower()\n",
    "        \n",
    "        if 'jangan mendekat' 'menjauh' 'lepaskan' 'lepasin' 'berhenti' 'tolong' in data:\n",
    "            stream = audio.open(format=pyaudio.paInt16,\n",
    "                    channels=1,\n",
    "                    rate=44100,\n",
    "                    input=True,\n",
    "                    frames_per_buffer=1024)\n",
    "\n",
    "        frames = []\n",
    "        try:\n",
    "            while True:\n",
    "                data = stream.read(1024)\n",
    "                frames.append(data)\n",
    "\n",
    "        except KeyboardInterrupt:\n",
    "            pass\n",
    "            stream.stop_stream()\n",
    "        stream.close()\n",
    "        audio.terminate()\n",
    "\n",
    "        sound_file = wave.open(\"recording.mp3\", \"wb\")\n",
    "        sound_file.setnchannels(1)\n",
    "        sound_file.setsampwidth(audio.get_sample_size(pyaudio.paInt16))\n",
    "        sound_file.setframerate(44100)\n",
    "        sound_file.writeframes(b''.join(frames))\n",
    "        sound_file.close()"
   ]
  },
  {
   "cell_type": "code",
   "execution_count": 147,
   "id": "534988f6",
   "metadata": {
    "scrolled": true
   },
   "outputs": [
    {
     "name": "stdout",
     "output_type": "stream",
     "text": [
      "Listening\n"
     ]
    },
    {
     "ename": "OSError",
     "evalue": "FLAC conversion utility not available - consider installing the FLAC command line application by running `apt-get install flac` or your operating system's equivalent",
     "output_type": "error",
     "traceback": [
      "\u001b[1;31m---------------------------------------------------------------------------\u001b[0m",
      "\u001b[1;31mOSError\u001b[0m                                   Traceback (most recent call last)",
      "\u001b[1;32m<ipython-input-147-8558d8322c7b>\u001b[0m in \u001b[0;36m<module>\u001b[1;34m\u001b[0m\n\u001b[1;32m----> 1\u001b[1;33m \u001b[0mquerying\u001b[0m\u001b[1;33m(\u001b[0m\u001b[1;33m)\u001b[0m\u001b[1;33m\u001b[0m\u001b[1;33m\u001b[0m\u001b[0m\n\u001b[0m",
      "\u001b[1;32m<ipython-input-146-e20e02bd2733>\u001b[0m in \u001b[0;36mquerying\u001b[1;34m()\u001b[0m\n\u001b[0;32m      4\u001b[0m     \u001b[0mstart\u001b[0m \u001b[1;33m=\u001b[0m \u001b[1;32mTrue\u001b[0m\u001b[1;33m\u001b[0m\u001b[1;33m\u001b[0m\u001b[0m\n\u001b[0;32m      5\u001b[0m     \u001b[1;32mwhile\u001b[0m\u001b[1;33m(\u001b[0m\u001b[0mstart\u001b[0m\u001b[1;33m)\u001b[0m\u001b[1;33m:\u001b[0m\u001b[1;33m\u001b[0m\u001b[1;33m\u001b[0m\u001b[0m\n\u001b[1;32m----> 6\u001b[1;33m         \u001b[0mq\u001b[0m \u001b[1;33m=\u001b[0m \u001b[0mtransform\u001b[0m\u001b[1;33m(\u001b[0m\u001b[1;33m)\u001b[0m\u001b[1;33m.\u001b[0m\u001b[0mlower\u001b[0m\u001b[1;33m(\u001b[0m\u001b[1;33m)\u001b[0m\u001b[1;33m\u001b[0m\u001b[1;33m\u001b[0m\u001b[0m\n\u001b[0m\u001b[0;32m      7\u001b[0m \u001b[1;33m\u001b[0m\u001b[0m\n\u001b[0;32m      8\u001b[0m         \u001b[1;32mif\u001b[0m \u001b[1;34m'jangan mendekat'\u001b[0m \u001b[1;34m'menjauh'\u001b[0m \u001b[1;34m'lepaskan'\u001b[0m \u001b[1;34m'lepasin'\u001b[0m \u001b[1;34m'berhenti'\u001b[0m \u001b[1;34m'tolong'\u001b[0m \u001b[1;32min\u001b[0m \u001b[0mdata\u001b[0m\u001b[1;33m:\u001b[0m\u001b[1;33m\u001b[0m\u001b[1;33m\u001b[0m\u001b[0m\n",
      "\u001b[1;32m<ipython-input-138-b4154402de23>\u001b[0m in \u001b[0;36mtransform\u001b[1;34m()\u001b[0m\n\u001b[0;32m      8\u001b[0m     \u001b[0mq\u001b[0m \u001b[1;33m=\u001b[0m \u001b[1;34m\"\"\u001b[0m\u001b[1;33m\u001b[0m\u001b[1;33m\u001b[0m\u001b[0m\n\u001b[0;32m      9\u001b[0m     \u001b[1;32mtry\u001b[0m\u001b[1;33m:\u001b[0m\u001b[1;33m\u001b[0m\u001b[1;33m\u001b[0m\u001b[0m\n\u001b[1;32m---> 10\u001b[1;33m         \u001b[0mq\u001b[0m \u001b[1;33m=\u001b[0m \u001b[0mr\u001b[0m\u001b[1;33m.\u001b[0m\u001b[0mrecognize_google\u001b[0m\u001b[1;33m(\u001b[0m\u001b[0maudio\u001b[0m\u001b[1;33m)\u001b[0m\u001b[1;33m\u001b[0m\u001b[1;33m\u001b[0m\u001b[0m\n\u001b[0m\u001b[0;32m     11\u001b[0m         \u001b[0mprint\u001b[0m\u001b[1;33m(\u001b[0m\u001b[1;34m\"I'm listening\"\u001b[0m \u001b[1;33m+\u001b[0m \u001b[0mq\u001b[0m\u001b[1;33m)\u001b[0m\u001b[1;33m\u001b[0m\u001b[1;33m\u001b[0m\u001b[0m\n\u001b[0;32m     12\u001b[0m     \u001b[1;32mexcept\u001b[0m \u001b[0msr\u001b[0m\u001b[1;33m.\u001b[0m\u001b[0mUnknownValueError\u001b[0m\u001b[1;33m:\u001b[0m\u001b[1;33m\u001b[0m\u001b[1;33m\u001b[0m\u001b[0m\n",
      "\u001b[1;32m~\\anaconda3\\lib\\site-packages\\speech_recognition\\__init__.py\u001b[0m in \u001b[0;36mrecognize_google\u001b[1;34m(self, audio_data, key, language, show_all)\u001b[0m\n\u001b[0;32m    746\u001b[0m         \u001b[1;32massert\u001b[0m \u001b[0misinstance\u001b[0m\u001b[1;33m(\u001b[0m\u001b[0mlanguage\u001b[0m\u001b[1;33m,\u001b[0m \u001b[0mstr\u001b[0m\u001b[1;33m)\u001b[0m\u001b[1;33m,\u001b[0m \u001b[1;34m\"``language`` must be a string\"\u001b[0m\u001b[1;33m\u001b[0m\u001b[1;33m\u001b[0m\u001b[0m\n\u001b[0;32m    747\u001b[0m \u001b[1;33m\u001b[0m\u001b[0m\n\u001b[1;32m--> 748\u001b[1;33m         flac_data = audio_data.get_flac_data(\n\u001b[0m\u001b[0;32m    749\u001b[0m             \u001b[0mconvert_rate\u001b[0m\u001b[1;33m=\u001b[0m\u001b[1;32mNone\u001b[0m \u001b[1;32mif\u001b[0m \u001b[0maudio_data\u001b[0m\u001b[1;33m.\u001b[0m\u001b[0msample_rate\u001b[0m \u001b[1;33m>=\u001b[0m \u001b[1;36m8000\u001b[0m \u001b[1;32melse\u001b[0m \u001b[1;36m8000\u001b[0m\u001b[1;33m,\u001b[0m  \u001b[1;31m# audio samples must be at least 8 kHz\u001b[0m\u001b[1;33m\u001b[0m\u001b[1;33m\u001b[0m\u001b[0m\n\u001b[0;32m    750\u001b[0m             \u001b[0mconvert_width\u001b[0m\u001b[1;33m=\u001b[0m\u001b[1;36m2\u001b[0m  \u001b[1;31m# audio samples must be 16-bit\u001b[0m\u001b[1;33m\u001b[0m\u001b[1;33m\u001b[0m\u001b[0m\n",
      "\u001b[1;32m~\\anaconda3\\lib\\site-packages\\speech_recognition\\__init__.py\u001b[0m in \u001b[0;36mget_flac_data\u001b[1;34m(self, convert_rate, convert_width)\u001b[0m\n\u001b[0;32m    425\u001b[0m         \u001b[1;31m# run the FLAC converter with the WAV data to get the FLAC data\u001b[0m\u001b[1;33m\u001b[0m\u001b[1;33m\u001b[0m\u001b[1;33m\u001b[0m\u001b[0m\n\u001b[0;32m    426\u001b[0m         \u001b[0mwav_data\u001b[0m \u001b[1;33m=\u001b[0m \u001b[0mself\u001b[0m\u001b[1;33m.\u001b[0m\u001b[0mget_wav_data\u001b[0m\u001b[1;33m(\u001b[0m\u001b[0mconvert_rate\u001b[0m\u001b[1;33m,\u001b[0m \u001b[0mconvert_width\u001b[0m\u001b[1;33m)\u001b[0m\u001b[1;33m\u001b[0m\u001b[1;33m\u001b[0m\u001b[0m\n\u001b[1;32m--> 427\u001b[1;33m         \u001b[0mflac_converter\u001b[0m \u001b[1;33m=\u001b[0m \u001b[0mget_flac_converter\u001b[0m\u001b[1;33m(\u001b[0m\u001b[1;33m)\u001b[0m\u001b[1;33m\u001b[0m\u001b[1;33m\u001b[0m\u001b[0m\n\u001b[0m\u001b[0;32m    428\u001b[0m         \u001b[1;32mif\u001b[0m \u001b[0mos\u001b[0m\u001b[1;33m.\u001b[0m\u001b[0mname\u001b[0m \u001b[1;33m==\u001b[0m \u001b[1;34m\"nt\"\u001b[0m\u001b[1;33m:\u001b[0m  \u001b[1;31m# on Windows, specify that the process is to be started without showing a console window\u001b[0m\u001b[1;33m\u001b[0m\u001b[1;33m\u001b[0m\u001b[0m\n\u001b[0;32m    429\u001b[0m             \u001b[0mstartup_info\u001b[0m \u001b[1;33m=\u001b[0m \u001b[0msubprocess\u001b[0m\u001b[1;33m.\u001b[0m\u001b[0mSTARTUPINFO\u001b[0m\u001b[1;33m(\u001b[0m\u001b[1;33m)\u001b[0m\u001b[1;33m\u001b[0m\u001b[1;33m\u001b[0m\u001b[0m\n",
      "\u001b[1;32m~\\anaconda3\\lib\\site-packages\\speech_recognition\\__init__.py\u001b[0m in \u001b[0;36mget_flac_converter\u001b[1;34m()\u001b[0m\n\u001b[0;32m   1096\u001b[0m     \u001b[0mflac_converter\u001b[0m \u001b[1;33m=\u001b[0m \u001b[0mshutil_which\u001b[0m\u001b[1;33m(\u001b[0m\u001b[1;34m\"flac\"\u001b[0m\u001b[1;33m)\u001b[0m  \u001b[1;31m# check for installed version first\u001b[0m\u001b[1;33m\u001b[0m\u001b[1;33m\u001b[0m\u001b[0m\n\u001b[0;32m   1097\u001b[0m     \u001b[1;32mif\u001b[0m \u001b[0mflac_converter\u001b[0m \u001b[1;32mis\u001b[0m \u001b[1;32mNone\u001b[0m\u001b[1;33m:\u001b[0m  \u001b[1;31m# flac utility is not installed\u001b[0m\u001b[1;33m\u001b[0m\u001b[1;33m\u001b[0m\u001b[0m\n\u001b[1;32m-> 1098\u001b[1;33m         \u001b[1;32mraise\u001b[0m \u001b[0mOSError\u001b[0m\u001b[1;33m(\u001b[0m\u001b[1;34m\"FLAC conversion utility not available - consider installing the FLAC command line application by running `apt-get install flac` or your operating system's equivalent\"\u001b[0m\u001b[1;33m)\u001b[0m\u001b[1;33m\u001b[0m\u001b[1;33m\u001b[0m\u001b[0m\n\u001b[0m\u001b[0;32m   1099\u001b[0m \u001b[1;33m\u001b[0m\u001b[0m\n\u001b[0;32m   1100\u001b[0m     \u001b[1;31m# mark FLAC converter as executable if possible\u001b[0m\u001b[1;33m\u001b[0m\u001b[1;33m\u001b[0m\u001b[1;33m\u001b[0m\u001b[0m\n",
      "\u001b[1;31mOSError\u001b[0m: FLAC conversion utility not available - consider installing the FLAC command line application by running `apt-get install flac` or your operating system's equivalent"
     ]
    }
   ],
   "source": [
    "querying()"
   ]
  },
  {
   "cell_type": "code",
   "execution_count": null,
   "id": "0a993bca",
   "metadata": {},
   "outputs": [],
   "source": []
  },
  {
   "cell_type": "code",
   "execution_count": 97,
   "id": "4bf817c8",
   "metadata": {},
   "outputs": [
    {
     "data": {
      "application/vnd.jupyter.widget-view+json": {
       "model_id": "072e0abda299446e9e71353daee8fa3f",
       "version_major": 2,
       "version_minor": 0
      },
      "text/plain": [
       "Output()"
      ]
     },
     "metadata": {},
     "output_type": "display_data"
    }
   ],
   "source": [
    "from IPython.display import display, Javascript\n",
    "\n",
    "out = widgets.Output()\n",
    "\n",
    "\n",
    "def window_open_button(url):\n",
    "    with out:\n",
    "        display(Javascript(f'window.open(\"{url.tooltip}\");'))\n",
    "\n",
    "\n",
    "ss = widgets.Button(description=\"Help!\", tooltip='https://wa.me/6285711849402?text=Please%20help%20me!')\n",
    "ss.on_click(window_open_button)\n",
    "\n",
    "with out:\n",
    "    display(ss)\n",
    "out"
   ]
  },
  {
   "cell_type": "code",
   "execution_count": null,
   "id": "a7bb877b",
   "metadata": {},
   "outputs": [],
   "source": []
  }
 ],
 "metadata": {
  "kernelspec": {
   "display_name": "Python 3",
   "language": "python",
   "name": "python3"
  },
  "language_info": {
   "codemirror_mode": {
    "name": "ipython",
    "version": 3
   },
   "file_extension": ".py",
   "mimetype": "text/x-python",
   "name": "python",
   "nbconvert_exporter": "python",
   "pygments_lexer": "ipython3",
   "version": "3.8.8"
  }
 },
 "nbformat": 4,
 "nbformat_minor": 5
}
